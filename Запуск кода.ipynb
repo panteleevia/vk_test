{
 "cells": [
  {
   "cell_type": "code",
   "execution_count": 14,
   "id": "ac181536-235b-4da8-a198-22a6ae98ff19",
   "metadata": {},
   "outputs": [],
   "source": [
    "import document_generator as dg\n",
    "import pandas as pd\n",
    "import json\n",
    "import requests\n",
    "import random\n",
    "import time"
   ]
  },
  {
   "cell_type": "code",
   "execution_count": 15,
   "id": "b1b9a535-c921-4792-8792-c9340c5690a4",
   "metadata": {},
   "outputs": [],
   "source": [
    "#функция для тестирования\n",
    "def new_document():\n",
    "    url = 'http://127.0.0.1:5000/listener'\n",
    "    document = dg.Generator().generate_document()\n",
    "    return requests.post(url, json=document).text"
   ]
  },
  {
   "cell_type": "code",
   "execution_count": 17,
   "id": "574be618-2041-4f82-8194-9a5d88527f8a",
   "metadata": {},
   "outputs": [],
   "source": [
    "time_list = []"
   ]
  },
  {
   "cell_type": "code",
   "execution_count": 42,
   "id": "4de38ac0-1964-4e46-9de6-a3b30dc575b0",
   "metadata": {},
   "outputs": [],
   "source": [
    "while True:\n",
    "    start_time = time.time()\n",
    "    new_document()\n",
    "    end_time = time.time()\n",
    "    execution_time = end_time - start_time\n",
    "    time_list.append(execution_time)\n",
    "    if (len(time_list)) > 50000:\n",
    "        break"
   ]
  },
  {
   "cell_type": "code",
   "execution_count": 37,
   "id": "c3e244b9-c3e4-4693-9df1-390e764becfb",
   "metadata": {},
   "outputs": [],
   "source": [
    "import sqlite3\n",
    "\n",
    "# Подключаемся к базе данных (или создаем её)\n",
    "conn = sqlite3.connect('vk.db')\n",
    "\n",
    "# Создаем курсор\n",
    "cursor = conn.cursor()\n",
    "\n",
    "cursor.execute(\"SELECT * FROM T_Documents tod\")\n",
    "bd = pd.DataFrame(cursor.fetchall(), columns=[description[0] for description in cursor.description])\n",
    "\n",
    "# Закрываем соединение\n",
    "conn.close()"
   ]
  },
  {
   "cell_type": "code",
   "execution_count": 38,
   "id": "85747363-33d9-4fa0-98b9-0dc8e44eabb0",
   "metadata": {},
   "outputs": [
    {
     "data": {
      "text/html": [
       "<div>\n",
       "<style scoped>\n",
       "    .dataframe tbody tr th:only-of-type {\n",
       "        vertical-align: middle;\n",
       "    }\n",
       "\n",
       "    .dataframe tbody tr th {\n",
       "        vertical-align: top;\n",
       "    }\n",
       "\n",
       "    .dataframe thead th {\n",
       "        text-align: right;\n",
       "    }\n",
       "</style>\n",
       "<table border=\"1\" class=\"dataframe\">\n",
       "  <thead>\n",
       "    <tr style=\"text-align: right;\">\n",
       "      <th></th>\n",
       "      <th>Url</th>\n",
       "      <th>FetchTime</th>\n",
       "      <th>PubDate</th>\n",
       "      <th>Text</th>\n",
       "      <th>FirstFetchTime</th>\n",
       "    </tr>\n",
       "  </thead>\n",
       "  <tbody>\n",
       "    <tr>\n",
       "      <th>0</th>\n",
       "      <td>xqjxcF6kiPI2</td>\n",
       "      <td>1391657160</td>\n",
       "      <td>980454000</td>\n",
       "      <td>А также действия представителей оппозиции, вне...</td>\n",
       "      <td>980454000</td>\n",
       "    </tr>\n",
       "    <tr>\n",
       "      <th>1</th>\n",
       "      <td>ToYp35ylgetR</td>\n",
       "      <td>1699918740</td>\n",
       "      <td>658020120</td>\n",
       "      <td>Господа, высокотехнологичная концепция обществ...</td>\n",
       "      <td>658020120</td>\n",
       "    </tr>\n",
       "    <tr>\n",
       "      <th>2</th>\n",
       "      <td>tI058vpDGaln</td>\n",
       "      <td>981734100</td>\n",
       "      <td>981734100</td>\n",
       "      <td>Приятно, граждане, наблюдать, как ключевые осо...</td>\n",
       "      <td>981734100</td>\n",
       "    </tr>\n",
       "    <tr>\n",
       "      <th>3</th>\n",
       "      <td>nY6J12kM2UKR</td>\n",
       "      <td>1005007740</td>\n",
       "      <td>978589680</td>\n",
       "      <td>В частности, консультация с широким активом не...</td>\n",
       "      <td>978589680</td>\n",
       "    </tr>\n",
       "    <tr>\n",
       "      <th>4</th>\n",
       "      <td>O0WkV6wQm291</td>\n",
       "      <td>1555481400</td>\n",
       "      <td>652103760</td>\n",
       "      <td>Предварительные выводы неутешительны: понимани...</td>\n",
       "      <td>652103760</td>\n",
       "    </tr>\n",
       "    <tr>\n",
       "      <th>...</th>\n",
       "      <td>...</td>\n",
       "      <td>...</td>\n",
       "      <td>...</td>\n",
       "      <td>...</td>\n",
       "      <td>...</td>\n",
       "    </tr>\n",
       "    <tr>\n",
       "      <th>1306</th>\n",
       "      <td>KbFmnF9LmQ6Q</td>\n",
       "      <td>1009348740</td>\n",
       "      <td>1009348740</td>\n",
       "      <td>Каждый из нас понимает очевидную вещь: сложивш...</td>\n",
       "      <td>1009348740</td>\n",
       "    </tr>\n",
       "    <tr>\n",
       "      <th>1307</th>\n",
       "      <td>J0NtlxKt3E4N</td>\n",
       "      <td>1000043580</td>\n",
       "      <td>1000043580</td>\n",
       "      <td>Разнообразный и богатый опыт говорит нам, что ...</td>\n",
       "      <td>1000043580</td>\n",
       "    </tr>\n",
       "    <tr>\n",
       "      <th>1308</th>\n",
       "      <td>dIpUHO7T5Y0s</td>\n",
       "      <td>985312200</td>\n",
       "      <td>985312200</td>\n",
       "      <td>Наше дело не так однозначно, как может показат...</td>\n",
       "      <td>985312200</td>\n",
       "    </tr>\n",
       "    <tr>\n",
       "      <th>1309</th>\n",
       "      <td>ry1GEWfmYKlF</td>\n",
       "      <td>1008706620</td>\n",
       "      <td>1008706620</td>\n",
       "      <td>Но интерактивные прототипы, вне зависимости от...</td>\n",
       "      <td>1008706620</td>\n",
       "    </tr>\n",
       "    <tr>\n",
       "      <th>1310</th>\n",
       "      <td>uK79x6uI3AGC</td>\n",
       "      <td>1006432680</td>\n",
       "      <td>1006432680</td>\n",
       "      <td>Таким образом, реализация намеченных плановых ...</td>\n",
       "      <td>1006432680</td>\n",
       "    </tr>\n",
       "  </tbody>\n",
       "</table>\n",
       "<p>1311 rows × 5 columns</p>\n",
       "</div>"
      ],
      "text/plain": [
       "               Url   FetchTime     PubDate  \\\n",
       "0     xqjxcF6kiPI2  1391657160   980454000   \n",
       "1     ToYp35ylgetR  1699918740   658020120   \n",
       "2     tI058vpDGaln   981734100   981734100   \n",
       "3     nY6J12kM2UKR  1005007740   978589680   \n",
       "4     O0WkV6wQm291  1555481400   652103760   \n",
       "...            ...         ...         ...   \n",
       "1306  KbFmnF9LmQ6Q  1009348740  1009348740   \n",
       "1307  J0NtlxKt3E4N  1000043580  1000043580   \n",
       "1308  dIpUHO7T5Y0s   985312200   985312200   \n",
       "1309  ry1GEWfmYKlF  1008706620  1008706620   \n",
       "1310  uK79x6uI3AGC  1006432680  1006432680   \n",
       "\n",
       "                                                   Text  FirstFetchTime  \n",
       "0     А также действия представителей оппозиции, вне...       980454000  \n",
       "1     Господа, высокотехнологичная концепция обществ...       658020120  \n",
       "2     Приятно, граждане, наблюдать, как ключевые осо...       981734100  \n",
       "3     В частности, консультация с широким активом не...       978589680  \n",
       "4     Предварительные выводы неутешительны: понимани...       652103760  \n",
       "...                                                 ...             ...  \n",
       "1306  Каждый из нас понимает очевидную вещь: сложивш...      1009348740  \n",
       "1307  Разнообразный и богатый опыт говорит нам, что ...      1000043580  \n",
       "1308  Наше дело не так однозначно, как может показат...       985312200  \n",
       "1309  Но интерактивные прототипы, вне зависимости от...      1008706620  \n",
       "1310  Таким образом, реализация намеченных плановых ...      1006432680  \n",
       "\n",
       "[1311 rows x 5 columns]"
      ]
     },
     "execution_count": 38,
     "metadata": {},
     "output_type": "execute_result"
    }
   ],
   "source": [
    "bd"
   ]
  },
  {
   "cell_type": "code",
   "execution_count": 39,
   "id": "bd6f9a03-634c-4f63-a597-ed04ebcf46d1",
   "metadata": {},
   "outputs": [
    {
     "data": {
      "text/plain": [
       "<Axes: >"
      ]
     },
     "execution_count": 39,
     "metadata": {},
     "output_type": "execute_result"
    },
    {
     "data": {
      "image/png": "[encoded data removed]",
      "text/plain": [
       "<Figure size 640x480 with 1 Axes>"
      ]
     },
     "metadata": {},
     "output_type": "display_data"
    }
   ],
   "source": [
    "sns.lineplot(time_list)"
   ]
  },
  {
   "cell_type": "code",
   "execution_count": 40,
   "id": "2028c6ca-0556-4360-81d9-eb4aaa9bf3c3",
   "metadata": {},
   "outputs": [
    {
     "data": {
      "text/plain": [
       "count    50042.000000\n",
       "mean         0.228424\n",
       "std          0.304601\n",
       "min          0.001839\n",
       "25%          0.007972\n",
       "50%          0.351040\n",
       "75%          0.370856\n",
       "max         21.060777\n",
       "dtype: float64"
      ]
     },
     "execution_count": 40,
     "metadata": {},
     "output_type": "execute_result"
    }
   ],
   "source": [
    "pd.Series(time_list).describe()"
   ]
  },
  {
   "cell_type": "code",
   "execution_count": null,
   "id": "feae15dc-40d4-4ebc-af9d-854d91c4362e",
   "metadata": {},
   "outputs": [],
   "source": []
  }
 ],
 "metadata": {
  "kernelspec": {
   "display_name": "Python 3 (ipykernel)",
   "language": "python",
   "name": "python3"
  },
  "language_info": {
   "codemirror_mode": {
    "name": "ipython",
    "version": 3
   },
   "file_extension": ".py",
   "mimetype": "text/x-python",
   "name": "python",
   "nbconvert_exporter": "python",
   "pygments_lexer": "ipython3",
   "version": "3.10.11"
  }
 },
 "nbformat": 4,
 "nbformat_minor": 5
}
