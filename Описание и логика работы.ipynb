{
 "cells": [
  {
   "cell_type": "markdown",
   "id": "530468d7-a44f-46cd-a6bc-06459953a4fb",
   "metadata": {},
   "source": [
    "## Профильное задание\n",
    "### ML-разработчик\n",
    "#### Выполнил: Пантелеев Игорь"
   ]
  },
  {
   "cell_type": "markdown",
   "id": "a99b1e9b-eb8e-4eff-ae92-22cb92d1f963",
   "metadata": {},
   "source": [
    "# Задача\n",
    "<p> На вход сервису поступают обновления документов\n",
    "```\n",
    "message TDocument {<br>\n",
    "string Url = 1;<br>\n",
    "uint64 PubDate = 2;<br>\n",
    "uint64 FetchTime = 3;<br>\n",
    "string Text = 4;<br>\n",
    "uint64 FirstFetchTime = 5<br>\n",
    "```<br>\n",
    "Необходимо на выходе формировать такие же сообщения, но с исправленными отдельными полями со следующими правилами (всё нижеуказанное - для группы документов с совпадающим полем Url):\n",
    "</p>\n",
    "\n",
    "* Поля Text и Fetch должны быть такими, какими были в документе с наибольшим FetchTime, полученным на данный момент<br>\n",
    "* Поле PubDate должно быть таким, каким было у сообщения с наименьшим FetchTime<br>\n",
    "* Поле FirstFetchTime должно быть равно минимальному значению FetchTime<br>\n"
   ]
  },
  {
   "cell_type": "markdown",
   "id": "ad23c34d-0732-434d-84a1-7825c1d1394c",
   "metadata": {},
   "source": [
    "# Подготовка \n",
    "<p>\n",
    "Как я вижу эту задачу. Есть некая очередь (Kafka и т.п.), в которую попадают новые и обновления старых документов. Мы должны взять из этой очереди документ, передать его в наш модуль и на выходе отправить этот документ в другую очередь. Я не силён в UML, но попробую нарисовать схему процесса\n",
    "</p>"
   ]
  },
  {
   "cell_type": "markdown",
   "id": "1098624f-fb36-4b7c-b33e-10c9a6418a06",
   "metadata": {},
   "source": [
    "<img src=\"UML.png\" alt=\"Мое изображение\" width=\"500\" height=\"100\">"
   ]
  },
  {
   "cell_type": "markdown",
   "id": "ffbbf40e-6369-428f-9aed-66756ca0df21",
   "metadata": {},
   "source": [
    "<p>С учётом того, что из вводных нам дано, что время хранится в uint64, вероятнее всего речь идёт о секундах (милисекунды вряд ли пригодятся для отслеживания обновлений документов и больше применимы к микротранзакциям</p>"
   ]
  },
  {
   "cell_type": "markdown",
   "id": "9232fb13-65bd-4ade-be33-708f6ee9af73",
   "metadata": {},
   "source": [
    "# 1-й этап: иммитируем Kafka"
   ]
  },
  {
   "cell_type": "markdown",
   "id": "26c8efc8-b698-490f-9f8e-be845257614f",
   "metadata": {},
   "source": [
    "<p>\n",
    "    Чтобы сразу подготовить наше решение к \"боевой версии\", напишем класс, который будет иммитировать очередь поступающих документов по 3 разным сценариям:\n",
    "    \n",
    "* Новый документ\n",
    "* Обновление старого документа\n",
    "* Ошибка\n",
    "</p>"
   ]
  },
  {
   "cell_type": "code",
   "execution_count": 1,
   "id": "339fcf5e-55d8-4a16-933a-1b28f67e4ddc",
   "metadata": {},
   "outputs": [],
   "source": [
    "import pandas as pd\n",
    "import random\n",
    "import string\n",
    "import requests\n",
    "import time\n",
    "from datetime import datetime, timedelta\n",
    "import sqlite3\n",
    "\n",
    "class Generator():\n",
    "    def __init__(self):\n",
    "        #api fish-text.ru\n",
    "        self.__url = 'https://fish-text.ru/get'\n",
    "        # Параметры запроса\n",
    "        self.__params = {\n",
    "            'format': 'html',\n",
    "            'type': 'paragraph',\n",
    "        }\n",
    "        self.__result = {}\n",
    "        self.__connection = sqlite3.connect('vk.db')\n",
    "        self.__cursor = self.__connection.cursor()\n",
    "        self.__cursor.execute('SELECT tod.Url, tod.Text FROM T_Documents tod')\n",
    "        self.__current_bd = pd.DataFrame(self.__cursor.fetchall(), columns=[description[0] for description in self.__cursor.description])\n",
    "\n",
    "\n",
    "    #Генератор случайных URL\n",
    "    def __generate_random_string(self, length: int) -> str:\n",
    "        rand = random.randint(0, 1)\n",
    "        #выдаёт случайное новое значение или случайное значение из имеющихся\n",
    "        try:\n",
    "            if rand == 1:\n",
    "                letters = string.ascii_letters + string.digits\n",
    "                return ''.join(random.choice(letters) for i in range(length))\n",
    "            else:\n",
    "                url = self.__current_bd['Url'][random.randint(0, len(self.__current_bd)-1)]\n",
    "                return url\n",
    "        except:\n",
    "            return ''\n",
    "        \n",
    "    #Генератор постов\n",
    "    def __generate_new_text(self) -> str:\n",
    "        #выдаёт случаное новое значение из api или берёт случайный текст из уже имеющихся\n",
    "        rand = random.choices([0, 1], [0.4, 0.6], k=1)[0]\n",
    "        try:\n",
    "            if rand == 1:\n",
    "                try:\n",
    "                    response = requests.get(self.__url, params=self.__params)\n",
    "                    fish_text = response.text.replace('<p>', '').split('</p>')[0]\n",
    "\n",
    "                    # чтобы не получить блокировку за превышение количества запросов\n",
    "                    time.sleep(0.1)\n",
    "                except:\n",
    "                    fish_text = ''\n",
    "\n",
    "                return fish_text\n",
    "            else:\n",
    "                fish_text = self.__current_bd['Text'][random.randint(0, len(self.__current_bd)-1)]\n",
    "                return fish_text\n",
    "        except:\n",
    "            return ''\n",
    "\n",
    "    #функция для генерации случайной даты в заданном диапазоне\n",
    "    def __generate_random_date(self, start_date: datetime, end_date: datetime):\n",
    "        rand = random.choices([0, 1], [0.2, 0.8], k=1)[0]\n",
    "        if rand == 1:\n",
    "            delta = end_date - start_date\n",
    "            random_days = random.randrange(abs(delta.days))\n",
    "            dt = start_date + timedelta(days=random_days)\n",
    "            try:\n",
    "                return int(dt.timestamp())\n",
    "            except:\n",
    "                return ''\n",
    "        else:\n",
    "            return 'Error date'\n",
    "\n",
    "    def __update_bd(self):\n",
    "        self.__cursor.execute('SELECT tod.Url, tod.Text FROM T_Documents tod')\n",
    "        self.__current_bd = pd.DataFrame(self.__cursor.fetchall(),\n",
    "                                         columns=[description[0] for description in self.__cursor.description])\n",
    "\n",
    "    #функция генерация документов\n",
    "    def generate_document(self):\n",
    "        #примерно раз в 10 секунд, будет выгружать то, что уже находится в очереди и подставлять в значения\n",
    "        #тем самым иммитируя то, что документ обновился\n",
    "        if datetime.now().second % 10 == 0:\n",
    "            self.__update_bd()\n",
    "\n",
    "\n",
    "        start_date = [datetime(2001, 1, 1, hour=random.randint(0, 23), minute=random.randint(0, 59)), \\\n",
    "                      datetime(1001, 1, 1, hour=random.randint(0, 23), minute=random.randint(0, 59)), \\\n",
    "                      datetime(2011, 1, 1, hour=random.randint(0, 23), minute=random.randint(0, 59)), \\\n",
    "                      datetime(21, 1, 1, hour=random.randint(0, 23), minute=random.randint(0, 59)), \\\n",
    "                      datetime(2031, 1, 1, hour=random.randint(0, 23), minute=random.randint(0, 59))]\n",
    "        end_date = [datetime(2000, 1, 1, hour=random.randint(0, 23), minute=random.randint(0, 59)), \\\n",
    "                    datetime(1000, 1, 1, hour=random.randint(0, 23), minute=random.randint(0, 59)), \\\n",
    "                    datetime(2030, 1, 1, hour=random.randint(0, 23), minute=random.randint(0, 59)), \\\n",
    "                    datetime(20, 1, 1, hour=random.randint(0, 23), minute=random.randint(0, 59)), \\\n",
    "                    datetime(2030, 1, 1, hour=random.randint(0, 23), minute=random.randint(0, 59))]\n",
    "        prob = [0.3, 0.2, 0.1, 0.25, 0.15]\n",
    "        #получаем случайные url. Только вариант из 12 символов для нас будет корректным\n",
    "        self.__result['Url'] = self.__generate_random_string(random.choices([12, 103, 0, 3, 17], prob, k=1)[0])\n",
    "        self.__result['PubDate'] = ''\n",
    "        self.__result['Text'] = self.__generate_new_text()\n",
    "        self.__result['FetchTime'] = self.__generate_random_date(random.choices(start_date, prob, k=1)[0], random.choices(end_date, prob, k=1)[0])\n",
    "        self.__result['FirstFetchTime'] = ''\n",
    "\n",
    "        return self.__result\n",
    "\n",
    "    def __del__(self):\n",
    "        self.__connection.close()\n"
   ]
  },
  {
   "cell_type": "markdown",
   "id": "806e250b-94b8-49f1-89b0-29beae8d85e1",
   "metadata": {},
   "source": [
    "<p>\n",
    "У нашего класса, который иммитирует очередь есть несколько методов, разберём их: \n",
    "    \n",
    "* __init__(self): конструктор класса. Его задача для объекта генератора подключиться к API и настроить параметры запросов. Также он подключается к выходной очереди и проверяет Url уже модерированных документов, также я добавил выгрузку текстов (не является обязательным и в данном случае даже плохо, так как чуть замедляет работу кода), чтобы иметь возможность подтягивать старые значения\n",
    "  \n",
    "* __generate_random_string(self, length: int) -> str: метод, который выдаёт случайную строку по запросу. Его задача генерировать случайные Url наших документов. Поскольку никаких вводных относительно Url не было, я поставил условие проверки - Url должен состоять из 12 символов. Это условие легко можно заменить на любое другое (к примеру включение подстроки https://vk.com)\n",
    "\n",
    "* __generate_new_text(self) -> str: выдаёт случайные текст. Здесь будет использоваться API fish-text.ru, чтобы получать какой-то текст, который будет увеличивать нагрузку на запрос, тем самым приближая решение к \"боевому\". Также выдаёт либо текст, либо пустой текст, либо один из имеющихся. Чтобы не получить блокировку за превышение количества запросов, ставлю ограничение в 0.1 секунду на запрос\n",
    "    \n",
    "* __generate_random_date(self, start_date: datetime, end_date: datetime): метод, который выдаёт случайную дату в заданном диапазоне. На вход будут подаваться как адекватные даты, так и выходящие за рамки нового времени. Также, этот метод будет возвращать ошибки даты, такое встречается когда запись не была успешной.\n",
    "\n",
    "*  __update_bd(self): генератор ~ раз в 10 секунд будет обновлять свою переменную, хранящую записи бд, чтобы иногда генерировать обновления старых документов\n",
    "\n",
    "* generate_document(self): единственный public метод класса. Его задача собрать результат всех функций и вернуть в виде словаря, который в дальнейшем будет отправлен на интерфейс listener\n",
    "\n",
    "* __del__(self): деструктор закрывает соединение с бд\n",
    "\n",
    "Все методы, участвующие в генерации документа, выдают либо адекватное значение, либо неадекватное с некоторой вероятностью, чтобы иммитировать битые записи\n",
    "</p>"
   ]
  },
  {
   "cell_type": "markdown",
   "id": "894f4862-1764-40dc-9f8e-4c7532dda086",
   "metadata": {},
   "source": [
    "# 2-й этап Создаём базу данных и таблицу T_Documents"
   ]
  },
  {
   "cell_type": "markdown",
   "id": "3cf5a196-a231-4643-87e1-af72b78ed68f",
   "metadata": {},
   "source": [
    "<p> В качестве БД, которая будет хранить выходную очередь, я выбрал sqllite. Тут я ориентировался на то, чтобы скорость запроса к БД был как можно быстрее. Плюс простота использования.\n",
    "\n",
    "    import sqlite3\n",
    "\n",
    "    # Подключение к базе данных (если базы данных не существует, она будет создана)\n",
    "    conn = sqlite3.connect('vk.db')\n",
    "    \n",
    "    # Создание курсора\n",
    "    cursor = conn.cursor()\n",
    "    \n",
    "    # Создание таблицы T_Documents\n",
    "    cursor.execute('''\n",
    "    CREATE TABLE T_Documents (\n",
    "        Url TEXT,\n",
    "        FetchTime INTEGER,\n",
    "        PubDate INTEGER,\n",
    "        FirstFetchTime INTEGER,\n",
    "        Text TEXT\n",
    "    )\n",
    "    ''')\n",
    "    \n",
    "    # Сохранение изменений\n",
    "    conn.commit()\n",
    "    \n",
    "    # Закрытие соединения\n",
    "    conn.close()\n",
    "\n",
    "</p>"
   ]
  },
  {
   "cell_type": "markdown",
   "id": "50dcc162-0594-438f-9f80-c5febe8a40e8",
   "metadata": {},
   "source": [
    "# 3-й этап создание интерфейса"
   ]
  },
  {
   "cell_type": "markdown",
   "id": "12774dd9-36c7-44e7-8824-9b77d1c5477f",
   "metadata": {},
   "source": [
    "<p> Теперь, нам нужен интерфейс которому на вход будут подаваться документы, на выходе либо такой же документ с изменениями, либо строка 'nil', которая означает, что документ не прошёл документацию. Я сделал выбор в сторону Flask.\n",
    "    \n",
    "    from flask import Flask, request, jsonify\n",
    "    import pandas as pd\n",
    "    from datetime import datetime\n",
    "    import sqlite3\n",
    "    \n",
    "    #настройки Flask\n",
    "    app = Flask(__name__)\n",
    "    #список, который будет хранить Url прошедших \"модерацию\" постов\n",
    "    @app.route('/listener', methods=['POST'])\n",
    "    def listener():\n",
    "        #отлавливаем ошибку, когда пришёл не json\n",
    "        try:\n",
    "            response_data = request.get_json()\n",
    "            return jsonify(checker(response_data))\n",
    "        except:\n",
    "            return 'nil'\n",
    "</p>"
   ]
  },
  {
   "cell_type": "markdown",
   "id": "00ccac64-1d68-49b9-9f1c-0f3844a0531e",
   "metadata": {},
   "source": [
    "# 4-й этап создание функции проверки документов"
   ]
  },
  {
   "cell_type": "markdown",
   "id": "581bbd52-b270-4d5a-b9fb-44bafd041159",
   "metadata": {},
   "source": [
    "<p> У нас есть генератор документов, выходная очередь, интерфейс взаимодействия, теперь осталось сделать функцию (можно класс, но для тестового задания выглядит избыточно), которая будет проверять валидность всех полей и принимать решение - добавить новую запись или обновить старый документ. <br>\n",
    "    Какие ошибки я могу предвидеть, не имея доступа к реальным данным:\n",
    "\n",
    "    * очевидная ошибка, которую я отсекаю сразу в интерфейсе - вместо json пришло что-то другое\n",
    "    * отсутствуют необходимые ключи\n",
    "\n",
    "    try:\n",
    "        Url = new_document['Url']\n",
    "        FetchTime = new_document['FetchTime']\n",
    "        Text = new_document['Text']\n",
    "    except:\n",
    "        return 'nil'\n",
    "\n",
    "    * невалидная дата (поскольку дата записана в виде числа, если входное значение преобразовать к числу не выйдет или оно окажется меньше 0 - значит дата невалидна\n",
    "\n",
    "    try:\n",
    "        if int(FetchTime) >= 0:\n",
    "            pass\n",
    "        else:\n",
    "            return 'nil'\n",
    "    except:\n",
    "        return 'nil'\n",
    "\n",
    "    * неадекватная дата. Здесь я беру диапазон от 1990 года до текущего момента\n",
    "\n",
    "    if FetchTime > datetime(1990, 1, 1).timestamp() and FetchTime < datetime.now().timestamp():\n",
    "        pass\n",
    "    else:\n",
    "        return 'nil'\n",
    "\n",
    "    * Url не соответствует требованиям. Выполняю проверку на длину строки Url == 12\n",
    "</p>"
   ]
  },
  {
   "cell_type": "markdown",
   "id": "141d5f91-e00b-47a0-a1a7-940f79229ec1",
   "metadata": {},
   "source": [
    "<p> Дальше подключаемся к нашей выходной бд с модерированными документами и вытаскиваем Url документов (дешёвая операция, проверял на удалённой бд с 17 млн записей, занимает максимум секунд 10. На локальной бд будет ещё меньше), чтобы иметь возможность обновлять старые документы, если на них пришло обновление.\n",
    "\n",
    "    connection = sqlite3.connect('vk.db')\n",
    "    cursor = connection.cursor()\n",
    "    cursor.execute(\"SELECT tod.Url FROM T_Documents tod\")\n",
    "    bd = pd.DataFrame(cursor.fetchall(), columns=[description[0] for description in cursor.description])\n",
    "    url_list = bd['Url'].to_list()\n",
    "</p>\n",
    "\n",
    "<p>Дальше у нас есть 2 сценария:\n",
    "    \n",
    "* запись с таким Url уже есть\n",
    "* такой записи нет\n",
    "</p>\n",
    "\n",
    "<p>Рассмотрим второй, более простой сценарий. В данном случае, поскольку мы уже проверили входной словарь, мы проверяем валидность Url (12 символов) и делаем запись в выходную очередь, а также делаем return с теми же значениями. Если Url не выполняет требования или произошла ошибка на этапе записи, возвращаем nil\n",
    "    \n",
    "        if Url not in url_list:\n",
    "            if len(Url) == 12:\n",
    "                connection = sqlite3.connect('vk.db')\n",
    "                cursor = connection.cursor()\n",
    "                cursor.execute(\n",
    "                    'INSERT INTO T_documents (Url, FetchTime, PubDate, Text, FirstFetchTime) VALUES (?, ?, ?, ?, ?)', \\\n",
    "                    (Url, FetchTime, FetchTime, Text, FetchTime))\n",
    "                connection.commit()\n",
    "                connection.close()\n",
    "                return {'Url': Url, 'FetchTime': FetchTime, 'PubDate': FetchTime, 'Text': Text,\n",
    "                        'FirstFetchTime': FetchTime}\n",
    "            else:\n",
    "                return 'nil'\n",
    "\n",
    "</p>"
   ]
  },
  {
   "cell_type": "markdown",
   "id": "70f7b59a-4769-428e-a11d-2e64f0511263",
   "metadata": {},
   "source": [
    "<p>По первому сценарию, мы нашли запись с таким Url и теперь нужно проверить даты. Посколько FirstFetchTime == PubDate, можем сравнивать с любым полем\n",
    "    \n",
    "            connection = sqlite3.connect('vk.db')\n",
    "            cursor = connection.cursor()\n",
    "            cursor.execute(f\"SELECT tod.Url, tod.FetchTime, tod.PubDate, tod.Text, tod.FirstFetchTime \\\n",
    "                        FROM T_Documents tod WHERE tod.Url = '{Url}'\")\n",
    "            bd = pd.DataFrame(cursor.fetchall(), columns=[description[0] for description in cursor.description])\n",
    "            current_fetch = bd['FirstFetchTime'][0]\n",
    "</p>"
   ]
  },
  {
   "cell_type": "markdown",
   "id": "5d64c1dc-dfbb-4af4-b8fe-76cc434c08b5",
   "metadata": {},
   "source": [
    "<p>Дальше сравниваем даты. Если текущая дата > пришедшей даты, значит нам нужно обновить все поля, касающиеся даты. Если нет, то только поле FetchTime\n",
    "\n",
    "                if current_fetch > FetchTime:\n",
    "                    connection = sqlite3.connect('vk.db')\n",
    "                    cursor = connection.cursor()\n",
    "                    z = f\"UPDATE T_Documents SET FetchTime='{FetchTime}', PubDate='{FetchTime}', Text='{Text}', \\\n",
    "                            FirstFetchTime='{FetchTime}' WHERE Url='{Url}'\"\n",
    "                    cursor.execute(z)\n",
    "                    connection.commit()\n",
    "                    return {'Url': Url, 'FetchTime': FetchTime, 'PubDate': FetchTime, 'Text': Text,\n",
    "                            'FirstFetchTime': FetchTime}\n",
    "                else:\n",
    "                    connection = sqlite3.connect('vk.db')\n",
    "                    cursor = connection.cursor()\n",
    "                    z = f\"UPDATE T_Documents SET FetchTime='{FetchTime}', PubDate='{bd['PubDate'][0]}', Text='{Text}', \\\n",
    "                            FirstFetchTime='{bd['FirstFetchTime'][0]}' WHERE Url='{Url}'\"\n",
    "                    cursor.execute(z)\n",
    "                    connection.commit()\n",
    "                    return {'Url': Url, 'FetchTime': FetchTime, 'PubDate': FetchTime, 'Text': Text,\n",
    "                            'FirstFetchTime': FetchTime}\n",
    "</p>"
   ]
  },
  {
   "cell_type": "markdown",
   "id": "05b72987-7271-443d-a9ae-a077a66ba73b",
   "metadata": {},
   "source": [
    "# 5-й этап Тестируем решение"
   ]
  },
  {
   "cell_type": "markdown",
   "id": "d7818aa6-5edb-4a5f-9d1a-28a5ec522d64",
   "metadata": {},
   "source": [
    "<p>\n",
    "    У нас всё готово для проверки работоспособности решения. Импортируем необходимые библиотеки, создаём функцию, которая будет подключаться к интерфейсу и отправлять в него новый документ от генератора\n",
    "    \n",
    "    import document_generator as dg\n",
    "    import pandas as pd\n",
    "    import json\n",
    "    import requests\n",
    "    import random\n",
    "    import time\n",
    "\n",
    "    #функция для отправки новых документов в интерфейс\n",
    "    def new_document():\n",
    "        url = 'http://127.0.0.1:5000/listener'\n",
    "        document = dg.Generator().generate_document()\n",
    "        return requests.post(url, json=document).text\n",
    "</p>"
   ]
  },
  {
   "cell_type": "markdown",
   "id": "f767997b-a29e-4992-9ca5-a7c57bf18943",
   "metadata": {},
   "source": [
    "<p>Дальше я хочу собрать какую-то статистику по времени выполнения (с оглядкой на задержку в 0.1 секунду по обращению к API fish-text.ru). Поэтому создаём список для хранения времени выполнения</p>\n",
    "    time_list = []"
   ]
  },
  {
   "cell_type": "markdown",
   "id": "9e8301b2-d70a-47ec-9ca7-24ef3b5c1972",
   "metadata": {},
   "source": [
    "<p>Начинаем тестирование\n",
    "    \n",
    "    while True:\n",
    "        start_time = time.time()\n",
    "        new_document()\n",
    "        end_time = time.time()\n",
    "        execution_time = end_time - start_time\n",
    "        time_list.append(execution_time)\n",
    "        if (len(time_list)) > 50000:\n",
    "            break\n",
    "</p>"
   ]
  },
  {
   "cell_type": "markdown",
   "id": "b21e4294-1c0e-49e2-b6bf-2652aaa9c6c3",
   "metadata": {},
   "source": [
    "<img src=\"Результат.png\" alt=\"Мое изображение\" width=\"500\" height=\"300\">"
   ]
  },
  {
   "cell_type": "markdown",
   "id": "51108a09-4083-41d9-9435-752b8cffe30e",
   "metadata": {},
   "source": [
    "<p>Как видно, медиана одного запроса составляет 0.35 секунды (-0.1 запрос API)\n",
    "Выбросы вероятнее всего связаны именно с использованием API\n",
    "</p>\n",
    "<p>По результатам 50042 запросов, было добавлено и обновлено 1311 записей (сохраняю в бд для проверки)</p>"
   ]
  },
  {
   "cell_type": "code",
   "execution_count": null,
   "id": "7aa23ed6-6974-486e-8892-c29e1a2d0670",
   "metadata": {},
   "outputs": [],
   "source": []
  }
 ],
 "metadata": {
  "kernelspec": {
   "display_name": "Python 3 (ipykernel)",
   "language": "python",
   "name": "python3"
  },
  "language_info": {
   "codemirror_mode": {
    "name": "ipython",
    "version": 3
   },
   "file_extension": ".py",
   "mimetype": "text/x-python",
   "name": "python",
   "nbconvert_exporter": "python",
   "pygments_lexer": "ipython3",
   "version": "3.10.11"
  }
 },
 "nbformat": 4,
 "nbformat_minor": 5
}
